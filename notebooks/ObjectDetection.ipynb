{
 "cells": [
  {
   "cell_type": "code",
   "execution_count": 1,
   "id": "ae7d300c",
   "metadata": {
    "ExecuteTime": {
     "end_time": "2022-04-16T10:03:44.934136Z",
     "start_time": "2022-04-16T10:03:44.812353Z"
    }
   },
   "outputs": [],
   "source": [
    "import os\n",
    "import cv2\n",
    "import colorsys\n",
    "from PIL import Image"
   ]
  },
  {
   "cell_type": "code",
   "execution_count": 2,
   "id": "4769f14c",
   "metadata": {
    "ExecuteTime": {
     "end_time": "2022-04-16T10:03:46.144676Z",
     "start_time": "2022-04-16T10:03:44.934136Z"
    }
   },
   "outputs": [],
   "source": [
    "import sys  \n",
    "sys.path.insert(0, '../src/')\n",
    "\n",
    "from detection import Detector\n",
    "from video import VideoStream"
   ]
  },
  {
   "cell_type": "code",
   "execution_count": 3,
   "id": "1ad651d3",
   "metadata": {
    "ExecuteTime": {
     "end_time": "2022-04-16T10:03:48.181624Z",
     "start_time": "2022-04-16T10:03:46.144676Z"
    }
   },
   "outputs": [],
   "source": [
    "detector = Detector() \n",
    "video_stream = VideoStream()"
   ]
  },
  {
   "cell_type": "code",
   "execution_count": 4,
   "id": "0d4bcdca",
   "metadata": {
    "ExecuteTime": {
     "end_time": "2022-04-16T10:04:00.263049Z",
     "start_time": "2022-04-16T10:03:48.181624Z"
    }
   },
   "outputs": [],
   "source": [
    "video_stream.video_stream_detection(detector)"
   ]
  },
  {
   "cell_type": "code",
   "execution_count": null,
   "id": "181ffbda",
   "metadata": {},
   "outputs": [],
   "source": []
  }
 ],
 "metadata": {
  "hide_input": false,
  "kernelspec": {
   "display_name": "Python 3 (ipykernel)",
   "language": "python",
   "name": "python3"
  },
  "language_info": {
   "codemirror_mode": {
    "name": "ipython",
    "version": 3
   },
   "file_extension": ".py",
   "mimetype": "text/x-python",
   "name": "python",
   "nbconvert_exporter": "python",
   "pygments_lexer": "ipython3",
   "version": "3.8.10"
  },
  "toc": {
   "base_numbering": 1,
   "nav_menu": {
    "height": "74px",
    "width": "182px"
   },
   "number_sections": true,
   "sideBar": true,
   "skip_h1_title": false,
   "title_cell": "Table of Contents",
   "title_sidebar": "Contents",
   "toc_cell": false,
   "toc_position": {
    "height": "541.6px",
    "left": "27px",
    "top": "111.125px",
    "width": "303.837px"
   },
   "toc_section_display": true,
   "toc_window_display": true
  },
  "varInspector": {
   "cols": {
    "lenName": "24",
    "lenType": 16,
    "lenVar": 40
   },
   "kernels_config": {
    "python": {
     "delete_cmd_postfix": "",
     "delete_cmd_prefix": "del ",
     "library": "var_list.py",
     "varRefreshCmd": "print(var_dic_list())"
    },
    "r": {
     "delete_cmd_postfix": ") ",
     "delete_cmd_prefix": "rm(",
     "library": "var_list.r",
     "varRefreshCmd": "cat(var_dic_list()) "
    }
   },
   "oldHeight": 122.85,
   "position": {
    "height": "40px",
    "left": "1249.2px",
    "right": "20px",
    "top": "120px",
    "width": "250px"
   },
   "types_to_exclude": [
    "module",
    "function",
    "builtin_function_or_method",
    "instance",
    "_Feature"
   ],
   "varInspector_section_display": "none",
   "window_display": true
  }
 },
 "nbformat": 4,
 "nbformat_minor": 5
}
